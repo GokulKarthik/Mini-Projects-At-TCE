{
 "cells": [
  {
   "cell_type": "code",
   "execution_count": 1,
   "metadata": {
    "_cell_guid": "b1076dfc-b9ad-4769-8c92-a6c4dae69d19",
    "_uuid": "8f2839f25d086af736a60e9eeb907d3b93b6e0e5"
   },
   "outputs": [],
   "source": [
    "# This Python 3 environment comes with many helpful analytics libraries installed\n",
    "# It is defined by the kaggle/python docker image: https://github.com/kaggle/docker-python\n",
    "# For example, here's several helpful packages to load in \n",
    "\n",
    "import numpy as np # linear algebra\n",
    "import pandas as pd # data processing, CSV file I/O (e.g. pd.read_csv)\n",
    "\n",
    "# Input data files are available in the \"../input/\" directory.\n",
    "# For example, running this (by clicking run or pressing Shift+Enter) will list the files in the input directory\n",
    "\n",
    "import os\n",
    "#print(os.listdir(\"../input\"))\n",
    "\n",
    "# Any results you write to the current directory are saved as output."
   ]
  },
  {
   "cell_type": "code",
   "execution_count": 2,
   "metadata": {
    "_cell_guid": "79c7e3d0-c299-4dcb-8224-4455121ee9b0",
    "_uuid": "d629ff2d2480ee46fbb7e2d37f6b5fab8052498a"
   },
   "outputs": [],
   "source": [
    "data = pd.read_csv('data/amazon-reviews-sample.csv')"
   ]
  },
  {
   "cell_type": "code",
   "execution_count": 3,
   "metadata": {
    "_cell_guid": "dbe9f1f3-097c-4d0a-ae03-d7179224cc9b",
    "_uuid": "844666023e69d0229d6e78fa367067b7320e451a"
   },
   "outputs": [
    {
     "data": {
      "text/html": [
       "<div>\n",
       "<style scoped>\n",
       "    .dataframe tbody tr th:only-of-type {\n",
       "        vertical-align: middle;\n",
       "    }\n",
       "\n",
       "    .dataframe tbody tr th {\n",
       "        vertical-align: top;\n",
       "    }\n",
       "\n",
       "    .dataframe thead th {\n",
       "        text-align: right;\n",
       "    }\n",
       "</style>\n",
       "<table border=\"1\" class=\"dataframe\">\n",
       "  <thead>\n",
       "    <tr style=\"text-align: right;\">\n",
       "      <th></th>\n",
       "      <th>asin</th>\n",
       "      <th>helpful</th>\n",
       "      <th>overall</th>\n",
       "      <th>reviewText</th>\n",
       "      <th>reviewTime</th>\n",
       "      <th>reviewerID</th>\n",
       "      <th>reviewerName</th>\n",
       "      <th>summary</th>\n",
       "      <th>unixReviewTime</th>\n",
       "      <th>title</th>\n",
       "    </tr>\n",
       "  </thead>\n",
       "  <tbody>\n",
       "    <tr>\n",
       "      <th>0</th>\n",
       "      <td>120401325X</td>\n",
       "      <td>[0, 0]</td>\n",
       "      <td>4</td>\n",
       "      <td>They look good and stick good! I just don't li...</td>\n",
       "      <td>05 21, 2014</td>\n",
       "      <td>A30TL5EWN6DFXT</td>\n",
       "      <td>christina</td>\n",
       "      <td>Looks Good</td>\n",
       "      <td>1400630400</td>\n",
       "      <td>BY champper Leopard Home Button Sticker for Ip...</td>\n",
       "    </tr>\n",
       "    <tr>\n",
       "      <th>1</th>\n",
       "      <td>120401325X</td>\n",
       "      <td>[0, 0]</td>\n",
       "      <td>5</td>\n",
       "      <td>These stickers work like the review says they ...</td>\n",
       "      <td>01 14, 2014</td>\n",
       "      <td>ASY55RVNIL0UD</td>\n",
       "      <td>emily l.</td>\n",
       "      <td>Really great product.</td>\n",
       "      <td>1389657600</td>\n",
       "      <td>BY champper Leopard Home Button Sticker for Ip...</td>\n",
       "    </tr>\n",
       "    <tr>\n",
       "      <th>2</th>\n",
       "      <td>120401325X</td>\n",
       "      <td>[0, 0]</td>\n",
       "      <td>5</td>\n",
       "      <td>These are awesome and make my phone look so st...</td>\n",
       "      <td>06 26, 2014</td>\n",
       "      <td>A2TMXE2AFO7ONB</td>\n",
       "      <td>Erica</td>\n",
       "      <td>LOVE LOVE LOVE</td>\n",
       "      <td>1403740800</td>\n",
       "      <td>BY champper Leopard Home Button Sticker for Ip...</td>\n",
       "    </tr>\n",
       "    <tr>\n",
       "      <th>3</th>\n",
       "      <td>120401325X</td>\n",
       "      <td>[4, 4]</td>\n",
       "      <td>4</td>\n",
       "      <td>Item arrived in great time and was in perfect ...</td>\n",
       "      <td>10 21, 2013</td>\n",
       "      <td>AWJ0WZQYMYFQ4</td>\n",
       "      <td>JM</td>\n",
       "      <td>Cute!</td>\n",
       "      <td>1382313600</td>\n",
       "      <td>BY champper Leopard Home Button Sticker for Ip...</td>\n",
       "    </tr>\n",
       "    <tr>\n",
       "      <th>4</th>\n",
       "      <td>120401325X</td>\n",
       "      <td>[2, 3]</td>\n",
       "      <td>5</td>\n",
       "      <td>awesome! stays on, and looks great. can be use...</td>\n",
       "      <td>02 3, 2013</td>\n",
       "      <td>ATX7CZYFXI1KW</td>\n",
       "      <td>patrice m rogoza</td>\n",
       "      <td>leopard home button sticker for iphone 4s</td>\n",
       "      <td>1359849600</td>\n",
       "      <td>BY champper Leopard Home Button Sticker for Ip...</td>\n",
       "    </tr>\n",
       "  </tbody>\n",
       "</table>\n",
       "</div>"
      ],
      "text/plain": [
       "         asin helpful  overall  \\\n",
       "0  120401325X  [0, 0]        4   \n",
       "1  120401325X  [0, 0]        5   \n",
       "2  120401325X  [0, 0]        5   \n",
       "3  120401325X  [4, 4]        4   \n",
       "4  120401325X  [2, 3]        5   \n",
       "\n",
       "                                          reviewText   reviewTime  \\\n",
       "0  They look good and stick good! I just don't li...  05 21, 2014   \n",
       "1  These stickers work like the review says they ...  01 14, 2014   \n",
       "2  These are awesome and make my phone look so st...  06 26, 2014   \n",
       "3  Item arrived in great time and was in perfect ...  10 21, 2013   \n",
       "4  awesome! stays on, and looks great. can be use...   02 3, 2013   \n",
       "\n",
       "       reviewerID      reviewerName  \\\n",
       "0  A30TL5EWN6DFXT         christina   \n",
       "1   ASY55RVNIL0UD          emily l.   \n",
       "2  A2TMXE2AFO7ONB             Erica   \n",
       "3   AWJ0WZQYMYFQ4                JM   \n",
       "4   ATX7CZYFXI1KW  patrice m rogoza   \n",
       "\n",
       "                                     summary  unixReviewTime  \\\n",
       "0                                 Looks Good      1400630400   \n",
       "1                      Really great product.      1389657600   \n",
       "2                             LOVE LOVE LOVE      1403740800   \n",
       "3                                      Cute!      1382313600   \n",
       "4  leopard home button sticker for iphone 4s      1359849600   \n",
       "\n",
       "                                               title  \n",
       "0  BY champper Leopard Home Button Sticker for Ip...  \n",
       "1  BY champper Leopard Home Button Sticker for Ip...  \n",
       "2  BY champper Leopard Home Button Sticker for Ip...  \n",
       "3  BY champper Leopard Home Button Sticker for Ip...  \n",
       "4  BY champper Leopard Home Button Sticker for Ip...  "
      ]
     },
     "execution_count": 3,
     "metadata": {},
     "output_type": "execute_result"
    }
   ],
   "source": [
    "data.head()"
   ]
  },
  {
   "cell_type": "code",
   "execution_count": 4,
   "metadata": {
    "_cell_guid": "faf24390-7f8f-4f91-87dd-a8a246d3ded3",
    "_uuid": "d0455f05337453dc18519057918f24ed7b26452b"
   },
   "outputs": [
    {
     "data": {
      "text/plain": [
       "0    They look good and stick good! I just don't li...\n",
       "1    These stickers work like the review says they ...\n",
       "2    These are awesome and make my phone look so st...\n",
       "3    Item arrived in great time and was in perfect ...\n",
       "4    awesome! stays on, and looks great. can be use...\n",
       "Name: reviewText, dtype: object"
      ]
     },
     "execution_count": 4,
     "metadata": {},
     "output_type": "execute_result"
    }
   ],
   "source": [
    "data['reviewText'].head()"
   ]
  },
  {
   "cell_type": "code",
   "execution_count": 5,
   "metadata": {
    "_cell_guid": "5426f6c0-59b7-4206-9af7-4d47572f1cab",
    "_uuid": "73ed56c19fbcbe357e3e45838643d46a0519bb0a"
   },
   "outputs": [
    {
     "data": {
      "text/plain": [
       "(1649, 10)"
      ]
     },
     "execution_count": 5,
     "metadata": {},
     "output_type": "execute_result"
    }
   ],
   "source": [
    "data.shape"
   ]
  },
  {
   "cell_type": "code",
   "execution_count": 6,
   "metadata": {
    "_cell_guid": "cf0d26ef-471c-4a72-850e-1d89c6c4def4",
    "_uuid": "717bf8b6b23b0ddb4313d44d9d812cfa4cc70f2a"
   },
   "outputs": [],
   "source": [
    "from nltk.corpus import stopwords\n",
    "stop_words = set(stopwords.words('english'))\n",
    "\n",
    "from nltk.stem.wordnet import WordNetLemmatizer \n",
    "lem = WordNetLemmatizer()\n",
    "\n",
    "from nltk.stem.porter import PorterStemmer \n",
    "stem = PorterStemmer()\n",
    "\n",
    "def clean_text(input_text):\n",
    "    input_text = str(input_text)\n",
    "    words = input_text.split() \n",
    "    noise_free_words = [lem.lemmatize(word, \"v\") for word in words if word not in stop_words] \n",
    "    noise_free_text = \" \".join(noise_free_words) \n",
    "    return noise_free_text"
   ]
  },
  {
   "cell_type": "code",
   "execution_count": 7,
   "metadata": {
    "_cell_guid": "ccae8ada-c963-4bca-84ac-196d6adc48c8",
    "_uuid": "5b0a553e874c6bf18e6e791eb19af317ba957733"
   },
   "outputs": [
    {
     "data": {
      "text/plain": [
       "str"
      ]
     },
     "execution_count": 7,
     "metadata": {},
     "output_type": "execute_result"
    }
   ],
   "source": [
    "type(data['reviewText'][0])"
   ]
  },
  {
   "cell_type": "code",
   "execution_count": 8,
   "metadata": {},
   "outputs": [
    {
     "name": "stdout",
     "output_type": "stream",
     "text": [
      "[nltk_data] Downloading package wordnet to /home/gokul/nltk_data...\n",
      "[nltk_data]   Package wordnet is already up-to-date!\n"
     ]
    },
    {
     "data": {
      "text/plain": [
       "True"
      ]
     },
     "execution_count": 8,
     "metadata": {},
     "output_type": "execute_result"
    }
   ],
   "source": [
    "import nltk\n",
    "nltk.download('wordnet')"
   ]
  },
  {
   "cell_type": "code",
   "execution_count": 9,
   "metadata": {
    "_cell_guid": "0a72ec5b-1866-4406-b3fb-6d0e263afcc5",
    "_uuid": "b5d5da76ef3c5a393bee8775798922dafa6536b4"
   },
   "outputs": [
    {
     "name": "stdout",
     "output_type": "stream",
     "text": [
      "12.522637000000001 seconds\n"
     ]
    }
   ],
   "source": [
    "import time\n",
    "start_time = time.clock()\n",
    "data['cleaned_review'] = data['reviewText'].apply(clean_text)\n",
    "print(time.clock() - start_time, \"seconds\")"
   ]
  },
  {
   "cell_type": "code",
   "execution_count": 10,
   "metadata": {
    "_cell_guid": "886b3a95-acc7-48ae-9aa0-055b2c94738b",
    "_uuid": "6441a81c6f7f0bf168af5a2c80eb5cf67ad443d6"
   },
   "outputs": [
    {
     "data": {
      "text/html": [
       "<div>\n",
       "<style scoped>\n",
       "    .dataframe tbody tr th:only-of-type {\n",
       "        vertical-align: middle;\n",
       "    }\n",
       "\n",
       "    .dataframe tbody tr th {\n",
       "        vertical-align: top;\n",
       "    }\n",
       "\n",
       "    .dataframe thead th {\n",
       "        text-align: right;\n",
       "    }\n",
       "</style>\n",
       "<table border=\"1\" class=\"dataframe\">\n",
       "  <thead>\n",
       "    <tr style=\"text-align: right;\">\n",
       "      <th></th>\n",
       "      <th>asin</th>\n",
       "      <th>helpful</th>\n",
       "      <th>overall</th>\n",
       "      <th>reviewText</th>\n",
       "      <th>reviewTime</th>\n",
       "      <th>reviewerID</th>\n",
       "      <th>reviewerName</th>\n",
       "      <th>summary</th>\n",
       "      <th>unixReviewTime</th>\n",
       "      <th>title</th>\n",
       "      <th>cleaned_review</th>\n",
       "    </tr>\n",
       "  </thead>\n",
       "  <tbody>\n",
       "    <tr>\n",
       "      <th>0</th>\n",
       "      <td>120401325X</td>\n",
       "      <td>[0, 0]</td>\n",
       "      <td>4</td>\n",
       "      <td>They look good and stick good! I just don't li...</td>\n",
       "      <td>05 21, 2014</td>\n",
       "      <td>A30TL5EWN6DFXT</td>\n",
       "      <td>christina</td>\n",
       "      <td>Looks Good</td>\n",
       "      <td>1400630400</td>\n",
       "      <td>BY champper Leopard Home Button Sticker for Ip...</td>\n",
       "      <td>They look good stick good! I like round shape ...</td>\n",
       "    </tr>\n",
       "    <tr>\n",
       "      <th>1</th>\n",
       "      <td>120401325X</td>\n",
       "      <td>[0, 0]</td>\n",
       "      <td>5</td>\n",
       "      <td>These stickers work like the review says they ...</td>\n",
       "      <td>01 14, 2014</td>\n",
       "      <td>ASY55RVNIL0UD</td>\n",
       "      <td>emily l.</td>\n",
       "      <td>Really great product.</td>\n",
       "      <td>1389657600</td>\n",
       "      <td>BY champper Leopard Home Button Sticker for Ip...</td>\n",
       "      <td>These stickers work like review say do. They s...</td>\n",
       "    </tr>\n",
       "    <tr>\n",
       "      <th>2</th>\n",
       "      <td>120401325X</td>\n",
       "      <td>[0, 0]</td>\n",
       "      <td>5</td>\n",
       "      <td>These are awesome and make my phone look so st...</td>\n",
       "      <td>06 26, 2014</td>\n",
       "      <td>A2TMXE2AFO7ONB</td>\n",
       "      <td>Erica</td>\n",
       "      <td>LOVE LOVE LOVE</td>\n",
       "      <td>1403740800</td>\n",
       "      <td>BY champper Leopard Home Button Sticker for Ip...</td>\n",
       "      <td>These awesome make phone look stylish! I use o...</td>\n",
       "    </tr>\n",
       "    <tr>\n",
       "      <th>3</th>\n",
       "      <td>120401325X</td>\n",
       "      <td>[4, 4]</td>\n",
       "      <td>4</td>\n",
       "      <td>Item arrived in great time and was in perfect ...</td>\n",
       "      <td>10 21, 2013</td>\n",
       "      <td>AWJ0WZQYMYFQ4</td>\n",
       "      <td>JM</td>\n",
       "      <td>Cute!</td>\n",
       "      <td>1382313600</td>\n",
       "      <td>BY champper Leopard Home Button Sticker for Ip...</td>\n",
       "      <td>Item arrive great time perfect condition. Howe...</td>\n",
       "    </tr>\n",
       "    <tr>\n",
       "      <th>4</th>\n",
       "      <td>120401325X</td>\n",
       "      <td>[2, 3]</td>\n",
       "      <td>5</td>\n",
       "      <td>awesome! stays on, and looks great. can be use...</td>\n",
       "      <td>02 3, 2013</td>\n",
       "      <td>ATX7CZYFXI1KW</td>\n",
       "      <td>patrice m rogoza</td>\n",
       "      <td>leopard home button sticker for iphone 4s</td>\n",
       "      <td>1359849600</td>\n",
       "      <td>BY champper Leopard Home Button Sticker for Ip...</td>\n",
       "      <td>awesome! stay on, look great. use multiple app...</td>\n",
       "    </tr>\n",
       "  </tbody>\n",
       "</table>\n",
       "</div>"
      ],
      "text/plain": [
       "         asin helpful  overall  \\\n",
       "0  120401325X  [0, 0]        4   \n",
       "1  120401325X  [0, 0]        5   \n",
       "2  120401325X  [0, 0]        5   \n",
       "3  120401325X  [4, 4]        4   \n",
       "4  120401325X  [2, 3]        5   \n",
       "\n",
       "                                          reviewText   reviewTime  \\\n",
       "0  They look good and stick good! I just don't li...  05 21, 2014   \n",
       "1  These stickers work like the review says they ...  01 14, 2014   \n",
       "2  These are awesome and make my phone look so st...  06 26, 2014   \n",
       "3  Item arrived in great time and was in perfect ...  10 21, 2013   \n",
       "4  awesome! stays on, and looks great. can be use...   02 3, 2013   \n",
       "\n",
       "       reviewerID      reviewerName  \\\n",
       "0  A30TL5EWN6DFXT         christina   \n",
       "1   ASY55RVNIL0UD          emily l.   \n",
       "2  A2TMXE2AFO7ONB             Erica   \n",
       "3   AWJ0WZQYMYFQ4                JM   \n",
       "4   ATX7CZYFXI1KW  patrice m rogoza   \n",
       "\n",
       "                                     summary  unixReviewTime  \\\n",
       "0                                 Looks Good      1400630400   \n",
       "1                      Really great product.      1389657600   \n",
       "2                             LOVE LOVE LOVE      1403740800   \n",
       "3                                      Cute!      1382313600   \n",
       "4  leopard home button sticker for iphone 4s      1359849600   \n",
       "\n",
       "                                               title  \\\n",
       "0  BY champper Leopard Home Button Sticker for Ip...   \n",
       "1  BY champper Leopard Home Button Sticker for Ip...   \n",
       "2  BY champper Leopard Home Button Sticker for Ip...   \n",
       "3  BY champper Leopard Home Button Sticker for Ip...   \n",
       "4  BY champper Leopard Home Button Sticker for Ip...   \n",
       "\n",
       "                                      cleaned_review  \n",
       "0  They look good stick good! I like round shape ...  \n",
       "1  These stickers work like review say do. They s...  \n",
       "2  These awesome make phone look stylish! I use o...  \n",
       "3  Item arrive great time perfect condition. Howe...  \n",
       "4  awesome! stay on, look great. use multiple app...  "
      ]
     },
     "execution_count": 10,
     "metadata": {},
     "output_type": "execute_result"
    }
   ],
   "source": [
    "data.head()"
   ]
  },
  {
   "cell_type": "code",
   "execution_count": 11,
   "metadata": {
    "_cell_guid": "4933ebe3-3609-40b7-8824-47ef4bf9bd41",
    "_uuid": "b2cbd0029e505aaf86ce866fa7fd7f9deb6200dc"
   },
   "outputs": [],
   "source": [
    "import random\n",
    "def find_sentiment2(text_input):\n",
    "    score = random.choice([-1, 0, 1]) #-ve => -1, neutral => 0, +ve => 0\n",
    "    return int(score)"
   ]
  },
  {
   "cell_type": "code",
   "execution_count": 12,
   "metadata": {
    "_cell_guid": "bff7caea-9ed5-48ba-aa07-ccca48768b65",
    "_uuid": "003513406921189b46aec5965c95b3d65bdfe174"
   },
   "outputs": [],
   "source": [
    "def find_sentiment(text_input):\n",
    "    score = 0 \n",
    "    text_input = text_input.split()\n",
    "    f = open('data/pos.txt', 'r')\n",
    "    x = f.read()\n",
    "    x = x.split()\n",
    "    f1 = open('data/neg.txt', 'r')\n",
    "    y = f1.read()\n",
    "    y = y.split()\n",
    "    for i in text_input:\n",
    "        if i in x:\n",
    "            score = score + 1\n",
    "        if i in y:\n",
    "            score = score - 1\n",
    "    return int(score)"
   ]
  },
  {
   "cell_type": "code",
   "execution_count": null,
   "metadata": {
    "_cell_guid": "f924b76a-d69a-4a93-acd1-c868db1f61ce",
    "_uuid": "60a64cbcb75db4c5d48d417a36e58c028ce7a0c5"
   },
   "outputs": [],
   "source": [
    "data['sentiment'] = data['cleaned_review'].apply(find_sentiment)"
   ]
  },
  {
   "cell_type": "code",
   "execution_count": null,
   "metadata": {
    "_cell_guid": "d245b16f-b05e-4f1e-aed7-4dbaaa096438",
    "_uuid": "de80f03184ca41674a3e2fe465bc11a957adb4ab"
   },
   "outputs": [],
   "source": [
    "data.to_csv(\"output/data_with_senti.csv\")\n",
    "data['sentiment'].head()"
   ]
  },
  {
   "cell_type": "code",
   "execution_count": null,
   "metadata": {},
   "outputs": [],
   "source": [
    "data['sentiment'].value_counts()"
   ]
  },
  {
   "cell_type": "code",
   "execution_count": null,
   "metadata": {
    "_cell_guid": "419bb0db-4537-4e3a-a276-b04f5e650492",
    "_uuid": "adc5e3d5eeab419d03f8eb3082b81ae79be5ef48"
   },
   "outputs": [],
   "source": [
    "from nltk import word_tokenize, pos_tag\n",
    "corpus = set()\n",
    "new_corpus = []\n",
    "\n",
    "def filter_features(text):\n",
    "    tokens = word_tokenize(text)\n",
    "    tokens = pos_tag(tokens)\n",
    "    tokens = [word for word, pos in tokens if pos in ['NN']]\n",
    "    corpus.update(tokens)\n",
    "    new_corpus.extend(tokens)\n",
    "    res = \" \".join(tokens)\n",
    "    return res\n",
    "\n",
    "data['feature_text'] = data['cleaned_review'].apply(filter_features)\n",
    "print(list(corpus)[:10])"
   ]
  },
  {
   "cell_type": "code",
   "execution_count": null,
   "metadata": {
    "_cell_guid": "e68eac2c-d9f8-4fa8-a76f-de98d73a0e0f",
    "_uuid": "2e14e9f0f30a9b15d7cfee6b156a909ddc32598e"
   },
   "outputs": [],
   "source": [
    "print(len(list(corpus)))\n",
    "data['feature_text'].head()"
   ]
  },
  {
   "cell_type": "code",
   "execution_count": null,
   "metadata": {
    "_cell_guid": "1496f882-d592-4841-aba4-3458d7e0cae1",
    "_uuid": "8ae0bcee8f43036540e859351b810eeb25d6577b"
   },
   "outputs": [],
   "source": [
    "from collections import Counter\n",
    "features_cnt = Counter(new_corpus)\n",
    "common_features = features_cnt.most_common(50)\n",
    "print(common_features)"
   ]
  },
  {
   "cell_type": "code",
   "execution_count": null,
   "metadata": {
    "_cell_guid": "e52f3998-db14-48ee-b2d4-b3f6a8f736e2",
    "_uuid": "03c5e219da5840c9bb6c8a2295d4f16aa5b479c9"
   },
   "outputs": [],
   "source": [
    "sents_bool = np.array(data['sentiment']) >= 0\n",
    "print(len(sents_bool))\n",
    "print(sents_bool[:10])"
   ]
  },
  {
   "cell_type": "code",
   "execution_count": null,
   "metadata": {
    "_cell_guid": "dbeb2abf-c948-415f-834f-5301b8235288",
    "_uuid": "9c3b4bf173a7b3cbc5a27a10d94d7532438640ed"
   },
   "outputs": [],
   "source": [
    "sents_bool.mean()"
   ]
  },
  {
   "cell_type": "code",
   "execution_count": null,
   "metadata": {
    "_cell_guid": "cf2c640d-f947-4ab2-af21-465d9e403b27",
    "_uuid": "ba4fba1509ccb42e9603beac9ee0441d272b73bd"
   },
   "outputs": [],
   "source": [
    "common_features_ = [x for x,y in common_features]\n",
    "feat_dict = {}\n",
    "sents = data['sentiment']\n",
    "for idx, f in enumerate(common_features_):\n",
    "    #print(idx)\n",
    "    lst2 = [list(ft.split()).count(f) for ft in data['feature_text']]\n",
    "    lst3 = []\n",
    "    for x,b in zip(lst2, sents_bool):\n",
    "        if b:\n",
    "            lst3.append(x)\n",
    "        else:\n",
    "            lst3.append(-x)\n",
    "    feat_dict[f] = lst3"
   ]
  },
  {
   "cell_type": "code",
   "execution_count": null,
   "metadata": {
    "_cell_guid": "6843a7b9-0251-45f2-881a-3c692bd19d65",
    "_uuid": "29bfcb7eff80b706b102584f359745358c316b95"
   },
   "outputs": [],
   "source": [
    "#print(feat_dict)"
   ]
  },
  {
   "cell_type": "code",
   "execution_count": null,
   "metadata": {
    "_cell_guid": "dd30eb23-1bc7-4e2e-a758-12cdd044b73b",
    "_uuid": "dce44d564b80a760664ec6d417d1548b668efc4e"
   },
   "outputs": [],
   "source": [
    "feat_dict['asin'] = data['asin']\n",
    "feat_dict['title'] = data['title']"
   ]
  },
  {
   "cell_type": "code",
   "execution_count": null,
   "metadata": {},
   "outputs": [],
   "source": [
    "pd.DataFrame(feat_dict)"
   ]
  },
  {
   "cell_type": "code",
   "execution_count": null,
   "metadata": {},
   "outputs": [],
   "source": [
    "new_data = pd.DataFrame(feat_dict).iloc[:,:]\n",
    "new_data = new_data.sort_values('title', ascending=False)\n",
    "print(new_data.head())"
   ]
  },
  {
   "cell_type": "code",
   "execution_count": null,
   "metadata": {
    "_cell_guid": "2efc1e73-9f51-46e5-943e-7bf5b5fc3fc3",
    "_uuid": "10f36f05ae09cbf8592f8e2eac19901d39844b7a"
   },
   "outputs": [],
   "source": [
    "new_data2 = new_data.groupby('asin').sum()\n",
    "print(new_data2.head())\n",
    "#new_data = new_data.drop_duplicates(subset='asin', keep=\"last\")"
   ]
  },
  {
   "cell_type": "code",
   "execution_count": null,
   "metadata": {
    "_cell_guid": "86980840-0b6d-4e2c-a503-93fa3a2023f9",
    "_uuid": "24faa630bd06d7bf7e5800ffaec07dcb720e66d8"
   },
   "outputs": [],
   "source": [
    "#comment\n",
    "from sklearn.feature_extraction.text import CountVectorizer\n",
    "review_vectorizer = CountVectorizer()\n",
    "review_features   = review_vectorizer.fit_transform(data['feature_text'])\n",
    "review_features.get_shape()"
   ]
  },
  {
   "cell_type": "code",
   "execution_count": null,
   "metadata": {
    "_cell_guid": "0fdc7a67-8f18-4d39-b1ef-54ebf2a6ae65",
    "_uuid": "7c22e184f29a04f9fa03375a0b20bc8d86052687"
   },
   "outputs": [],
   "source": [
    "#comment\n",
    "print(review_features[1000])\n",
    "print(type(review_features))"
   ]
  },
  {
   "cell_type": "code",
   "execution_count": null,
   "metadata": {
    "_cell_guid": "7d981b71-04c8-41be-b1fb-f081648699a8",
    "_uuid": "dc8125428a861287ace8cd552e0ef2a5db015868"
   },
   "outputs": [],
   "source": [
    "new_data2.shape"
   ]
  },
  {
   "cell_type": "code",
   "execution_count": null,
   "metadata": {
    "_cell_guid": "af70a022-7def-4154-b29f-9371631e974a",
    "_uuid": "b088462f3418cecafa2faaf2fdb20d4c6f70533e"
   },
   "outputs": [],
   "source": [
    "new_data2.to_csv(\"output/final_features_data.csv\")"
   ]
  },
  {
   "cell_type": "code",
   "execution_count": null,
   "metadata": {
    "_cell_guid": "2b16831f-9ed4-4af7-8eae-a89046106300",
    "_uuid": "9ecbfc956da5699b79313be4f2f02266207ab5b9"
   },
   "outputs": [],
   "source": [
    "data[data['asin'] == '8288862993'].iloc[0,:]['title']"
   ]
  },
  {
   "cell_type": "code",
   "execution_count": null,
   "metadata": {
    "_cell_guid": "a9f73401-5958-4424-b514-24164a1bbdcd",
    "_uuid": "ed016ded1475213b8b325fc30cb164eefd91b685"
   },
   "outputs": [],
   "source": [
    "def result2(f1='battery', f2='sound', f3='charger'):\n",
    "    res3 = {}\n",
    "    lst5 = []\n",
    "    new_data_pos = new_data2.sort_values(by=[f1, f2, f3], ascending=False)\n",
    "    for i in new_data_pos.index[:10]:\n",
    "        print(i)\n",
    "        dic5 = {}\n",
    "        dic5['asin'] = i\n",
    "        dic5['title'] = data[data['asin'] == i].iloc[0,:]['title']\n",
    "        lst5.append(dic5)\n",
    "    res3['product'] = lst5\n",
    "    return res3\n",
    "\n",
    "result2()"
   ]
  }
 ],
 "metadata": {
  "kernelspec": {
   "display_name": "Python 3",
   "language": "python",
   "name": "python3"
  },
  "language_info": {
   "codemirror_mode": {
    "name": "ipython",
    "version": 3
   },
   "file_extension": ".py",
   "mimetype": "text/x-python",
   "name": "python",
   "nbconvert_exporter": "python",
   "pygments_lexer": "ipython3",
   "version": "3.6.4"
  }
 },
 "nbformat": 4,
 "nbformat_minor": 1
}
