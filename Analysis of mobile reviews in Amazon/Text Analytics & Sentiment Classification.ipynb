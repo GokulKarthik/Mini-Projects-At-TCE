{
 "cells": [
  {
   "cell_type": "code",
   "execution_count": 1,
   "metadata": {
    "colab": {},
    "colab_type": "code",
    "id": "oqmEHdB2rk4A"
   },
   "outputs": [
    {
     "name": "stdout",
     "output_type": "stream",
     "text": [
      " GalaxyOn5Reviews.txt  'Text Analytics & Sentiment Classification.ipynb'\r\n"
     ]
    }
   ],
   "source": [
    "!ls"
   ]
  },
  {
   "cell_type": "markdown",
   "metadata": {
    "colab_type": "text",
    "id": "V0l8JsW4sG_x"
   },
   "source": [
    "# Text Analytics"
   ]
  },
  {
   "cell_type": "code",
   "execution_count": 2,
   "metadata": {
    "colab": {},
    "colab_type": "code",
    "id": "bW_sQ1ZnroKL"
   },
   "outputs": [],
   "source": [
    "import re\n",
    "import numpy as np\n",
    "import pandas as pd\n",
    "import sklearn \n",
    "import matplotlib.pyplot as plt\n",
    "import nltk"
   ]
  },
  {
   "cell_type": "code",
   "execution_count": 3,
   "metadata": {
    "colab": {},
    "colab_type": "code",
    "id": "QJOseZicsL0k"
   },
   "outputs": [
    {
     "name": "stdout",
     "output_type": "stream",
     "text": [
      "(883,)\n"
     ]
    }
   ],
   "source": [
    "#Return an ndarray\n",
    "review_text = np.loadtxt(\"GalaxyOn5Reviews.txt\", dtype='str', delimiter=\"\\n\")\n",
    "review_text = review_text[3:]# Removing the unnecessary lines\n",
    "print(review_text.shape)"
   ]
  },
  {
   "cell_type": "code",
   "execution_count": 4,
   "metadata": {
    "colab": {},
    "colab_type": "code",
    "id": "gyLu68DNsbpF"
   },
   "outputs": [
    {
     "name": "stdout",
     "output_type": "stream",
     "text": [
      "4.0 out of 5 starsworth for money\n",
      "----------------------------------------------------\n",
      "Bynithesh thomason 9 May 2017\n",
      "----------------------------------------------------\n",
      "Colour: Gold|Verified Purchase\n",
      "----------------------------------------------------\n",
      "Excellent phone ...... Battery life is nice and good camera clarity. Processor working fine and design also looks like premium mobile\n",
      "----------------------------------------------------\n",
      "Comment| 5 people found this helpful. Was this review helpful to you?YesNoReport abuse\n",
      "----------------------------------------------------\n",
      "5.0 out of 5 starsGood\n",
      "----------------------------------------------------\n",
      "ByAmazon Customeron 30 March 2017\n",
      "----------------------------------------------------\n",
      "Colour: Black|Verified Purchase\n",
      "----------------------------------------------------\n",
      "Good\n",
      "----------------------------------------------------\n",
      "Comment| 7 people found this helpful. Was this review helpful to you?YesNoReport abuse\n",
      "----------------------------------------------------\n"
     ]
    }
   ],
   "source": [
    "# Just to understand the structure of review_text\n",
    "for i in review_text[:10]:\n",
    "    print(i)\n",
    "    print( \"----------------------------------------------------\")"
   ]
  },
  {
   "cell_type": "code",
   "execution_count": 5,
   "metadata": {
    "colab": {},
    "colab_type": "code",
    "id": "fxjBNZUks5N0"
   },
   "outputs": [],
   "source": [
    "# To find whether the string is a rating\n",
    "def is_number(string):\n",
    "    try:\n",
    "        float(string)\n",
    "        return True\n",
    "    except:\n",
    "        return False\n",
    "    \n",
    "def is_color(string):\n",
    "    return re.match(r'Colour: ', string)\n",
    "\n",
    "def is_review_date(string):\n",
    "    return re.match(r'By(.)+on ', string)\n",
    "\n",
    "def is_comment(string):\n",
    "    return re.match('Comment| ', string)"
   ]
  },
  {
   "cell_type": "code",
   "execution_count": 6,
   "metadata": {
    "colab": {},
    "colab_type": "code",
    "id": "8CyjByXntTAs"
   },
   "outputs": [],
   "source": [
    "ratings = []\n",
    "colors = []\n",
    "dates_of_review = []\n",
    "comments = []\n",
    "reviews = []\n",
    "\n",
    "cnt = 1\n",
    "for line in review_text:\n",
    "    \n",
    "    #Ratings list\n",
    "    if is_number(line[:3]):\n",
    "        rating = float(line[:3])\n",
    "        ratings.append(rating)\n",
    "        review_added = 0\n",
    "        \n",
    "    #Review date list\n",
    "    elif is_review_date(line) :\n",
    "        dates_of_review.append(line[is_review_date(line).end():])\n",
    "        review_added = 0\n",
    "        \n",
    "    #Phone color list\n",
    "    elif is_color(line):\n",
    "        result2 = re.findall(r'^\\w+', line[is_color(line).end():])\n",
    "        colors.append(result2[0])\n",
    "        review_added = 0\n",
    "        \n",
    "    #Comments List\n",
    "    elif is_comment(line):\n",
    "        review_added = 0\n",
    "        #do nothing\n",
    "        pass\n",
    "     \n",
    "    #Reviews list\n",
    "    else:\n",
    "        if review_added:\n",
    "            reviews[-1] = reviews[-1] + line\n",
    "        else:\n",
    "            reviews.append(line)\n",
    "            review_added = 1\n",
    "        \n",
    "    cnt += 1"
   ]
  },
  {
   "cell_type": "code",
   "execution_count": 7,
   "metadata": {
    "colab": {},
    "colab_type": "code",
    "id": "SzK9ekrUth3s"
   },
   "outputs": [
    {
     "name": "stdout",
     "output_type": "stream",
     "text": [
      "Number of ratings : 170\n",
      "Average Rating : 4.358823529411764\n",
      "[4.0, 5.0, 5.0, 2.0, 4.0]\n",
      "['Gold', 'Black', 'Gold', 'Gold', 'Gold']\n",
      "['9 May 2017', '30 March 2017', '13 February 2017', '4 May 2017', '17 March 2017']\n",
      "['Excellent phone ...... Battery life is nice and good camera clarity. Processor working fine and design also looks like premium mobile', 'Good', 'amazing', 'One sim slot does not work.', 'A good product for the price... Its made only for Indian sim which was not mentioned in the product description. That is a major flaw as far as I am concerned.']\n",
      "170\n",
      "170\n",
      "170\n",
      "170\n"
     ]
    }
   ],
   "source": [
    "print(\"Number of ratings : \"+str(len(ratings)))\n",
    "print(\"Average Rating : \"+ str(np.nanmean(ratings)))\n",
    "print(ratings[:5]) \n",
    "print(colors[:5])\n",
    "print(dates_of_review[:5])\n",
    "print(reviews[:5])\n",
    "print(len(ratings))\n",
    "print(len(colors))\n",
    "print(len(dates_of_review)) \n",
    "print(len(reviews))"
   ]
  },
  {
   "cell_type": "code",
   "execution_count": 8,
   "metadata": {
    "colab": {},
    "colab_type": "code",
    "id": "ATqxJVbItmGz"
   },
   "outputs": [],
   "source": [
    "#Creating Data frames\n",
    "reviews_lot = [('Review_Date', dates_of_review),\n",
    "              ('Color', colors),\n",
    "              ('5_Star_Rating', ratings),\n",
    "              ('Review', reviews)] \n",
    "reviews_df = pd.DataFrame.from_items(reviews_lot)"
   ]
  },
  {
   "cell_type": "code",
   "execution_count": 9,
   "metadata": {
    "colab": {},
    "colab_type": "code",
    "id": "tCNac-RbvlOa"
   },
   "outputs": [
    {
     "name": "stdout",
     "output_type": "stream",
     "text": [
      "        Review_Date  Color  5_Star_Rating  \\\n",
      "0        9 May 2017   Gold            4.0   \n",
      "1     30 March 2017  Black            5.0   \n",
      "2  13 February 2017   Gold            5.0   \n",
      "3        4 May 2017   Gold            2.0   \n",
      "4     17 March 2017   Gold            4.0   \n",
      "\n",
      "                                              Review  \n",
      "0  Excellent phone ...... Battery life is nice an...  \n",
      "1                                               Good  \n",
      "2                                            amazing  \n",
      "3                        One sim slot does not work.  \n",
      "4  A good product for the price... Its made only ...  \n"
     ]
    }
   ],
   "source": [
    "print(reviews_df.head())"
   ]
  },
  {
   "cell_type": "code",
   "execution_count": 11,
   "metadata": {
    "colab": {},
    "colab_type": "code",
    "id": "qeVZ3ibdvrOc"
   },
   "outputs": [
    {
     "name": "stdout",
     "output_type": "stream",
     "text": [
      "[nltk_data] Downloading package stopwords to /home/gokul/nltk_data...\n",
      "[nltk_data]   Unzipping corpora/stopwords.zip.\n",
      "0    Excellent phone ...... Battery life is nice an...\n",
      "1                                                 Good\n",
      "2                                              amazing\n",
      "3                          One sim slot does not work.\n",
      "4    A good product for the price... Its made only ...\n",
      "Name: Review, dtype: object\n"
     ]
    }
   ],
   "source": [
    "# Creating corpus\n",
    "nltk.download('stopwords')\n",
    "from nltk.corpus import stopwords\n",
    "from nltk.stem.porter import PorterStemmer\n",
    "ps = PorterStemmer() \n",
    "\n",
    "corpus = []\n",
    "\n",
    "#Text Cleaning\n",
    "for i in range(len(reviews_df['Review'])):\n",
    "    review = reviews_df['Review'][i]\n",
    "    review = re.sub('[^a-zA-z]', \" \", review)\n",
    "    review = review.lower()\n",
    "    review = review.split()\n",
    "    review = [ps.stem(word) for word in review if not word in set(stopwords.words('english'))]\n",
    "    review = \" \".join(review)\n",
    "    #reviews_df['Review'][i] = review\n",
    "    corpus.append(review)\n",
    "    \n",
    "print(reviews_df['Review'].head())"
   ]
  },
  {
   "cell_type": "code",
   "execution_count": 12,
   "metadata": {
    "colab": {},
    "colab_type": "code",
    "id": "th-67lBlwG4s"
   },
   "outputs": [
    {
     "name": "stdout",
     "output_type": "stream",
     "text": [
      "170\n",
      "excel phone batteri life nice good camera clariti processor work fine design also look like premium mobil\n",
      "good\n",
      "amaz\n",
      "one sim slot work\n",
      "good product price made indian sim mention product descript major flaw far concern\n"
     ]
    }
   ],
   "source": [
    "print(len(corpus))\n",
    "for i in range(5):\n",
    "    print(corpus[i])"
   ]
  },
  {
   "cell_type": "code",
   "execution_count": 13,
   "metadata": {
    "colab": {},
    "colab_type": "code",
    "id": "4ArD4gl6wUwT"
   },
   "outputs": [
    {
     "name": "stdout",
     "output_type": "stream",
     "text": [
      "[nltk_data] Downloading package punkt to /home/gokul/nltk_data...\n",
      "[nltk_data]   Unzipping tokenizers/punkt.zip.\n",
      "[nltk_data] Downloading package averaged_perceptron_tagger to\n",
      "[nltk_data]     /home/gokul/nltk_data...\n",
      "[nltk_data]   Unzipping taggers/averaged_perceptron_tagger.zip.\n",
      "Word => PartOfSpeech\n",
      "--------------------\n",
      "excel => NN\n",
      "phone => NN\n",
      "batteri => JJ\n",
      "life => NN\n",
      "nice => RB\n",
      "good => JJ\n",
      "camera => NN\n",
      "clariti => NN\n",
      "processor => NN\n",
      "work => NN\n"
     ]
    }
   ],
   "source": [
    "nltk.download('punkt')\n",
    "nltk.download('averaged_perceptron_tagger')\n",
    "new_corpus = \"\"\n",
    "for review in corpus:\n",
    "    new_corpus = new_corpus + \" \" + review\n",
    "    \n",
    "new_corpus_tokenized = nltk.word_tokenize(new_corpus)\n",
    "text = nltk.pos_tag(new_corpus_tokenized)\n",
    "print(\"Word => PartOfSpeech\")\n",
    "print(\"--------------------\")\n",
    "for i in text[:10]:\n",
    "    print(i[0] + \" => \" + i[1])"
   ]
  },
  {
   "cell_type": "code",
   "execution_count": 14,
   "metadata": {
    "colab": {},
    "colab_type": "code",
    "id": "8QD0Z64HyaWi"
   },
   "outputs": [
    {
     "name": "stdout",
     "output_type": "stream",
     "text": [
      "Collecting wordcloud\n",
      "\u001b[?25l  Downloading https://files.pythonhosted.org/packages/ae/af/849edf14d573eba9c8082db898ff0d090428d9485371cc4fe21a66717ad2/wordcloud-1.5.0-cp36-cp36m-manylinux1_x86_64.whl (361kB)\n",
      "\u001b[K    100% |████████████████████████████████| 368kB 16.9MB/s ta 0:00:01\n",
      "\u001b[?25hRequirement already satisfied: numpy>=1.6.1 in /home/gokul/anaconda3/lib/python3.6/site-packages (from wordcloud) (1.14.0)\n",
      "Requirement already satisfied: pillow in /home/gokul/anaconda3/lib/python3.6/site-packages (from wordcloud) (5.0.0)\n",
      "Installing collected packages: wordcloud\n",
      "Successfully installed wordcloud-1.5.0\n",
      "\u001b[33mYou are using pip version 18.0, however version 18.1 is available.\n",
      "You should consider upgrading via the 'pip install --upgrade pip' command.\u001b[0m\n"
     ]
    }
   ],
   "source": [
    "!pip install wordcloud"
   ]
  },
  {
   "cell_type": "code",
   "execution_count": 15,
   "metadata": {
    "colab": {},
    "colab_type": "code",
    "id": "mQYXjKM_xQZD"
   },
   "outputs": [
    {
     "data": {
      "image/png": "[encoded data removed]",
      "text/plain": [
       "<matplotlib.figure.Figure at 0x7fdc8a450400>"
      ]
     },
     "metadata": {},
     "output_type": "display_data"
    }
   ],
   "source": [
    "from wordcloud import WordCloud\n",
    "wordcloud = WordCloud(background_color='white',\n",
    "                      width=3000,\n",
    "                      height=3000\n",
    "                     ).generate(new_corpus)\n",
    "\n",
    "\n",
    "plt.imshow(wordcloud)\n",
    "plt.axis('off')\n",
    "plt.show()"
   ]
  },
  {
   "cell_type": "code",
   "execution_count": 16,
   "metadata": {
    "colab": {},
    "colab_type": "code",
    "id": "WwCZF1exyN9j"
   },
   "outputs": [
    {
     "data": {
      "image/png": "[encoded data removed]",
      "text/plain": [
       "<matplotlib.figure.Figure at 0x7fdc8c825eb8>"
      ]
     },
     "metadata": {},
     "output_type": "display_data"
    }
   ],
   "source": [
    "reviews_df.Color.value_counts().plot(kind = 'pie')\n",
    "plt.show()"
   ]
  },
  {
   "cell_type": "markdown",
   "metadata": {
    "colab_type": "text",
    "id": "nHSVDubayymS"
   },
   "source": [
    "# Sentiment Classification"
   ]
  },
  {
   "cell_type": "code",
   "execution_count": 17,
   "metadata": {
    "colab": {},
    "colab_type": "code",
    "id": "1YONxaQCzvI1"
   },
   "outputs": [],
   "source": [
    "reviews_df['CleanedReview'] = corpus\n",
    "reviews_df['Sentiment'] = (reviews_df['5_Star_Rating']>3).astype(np.int)"
   ]
  },
  {
   "cell_type": "code",
   "execution_count": 18,
   "metadata": {
    "colab": {},
    "colab_type": "code",
    "id": "7KikQn9J0RyW"
   },
   "outputs": [
    {
     "name": "stdout",
     "output_type": "stream",
     "text": [
      "        Review_Date  Color  5_Star_Rating  \\\n",
      "0        9 May 2017   Gold            4.0   \n",
      "1     30 March 2017  Black            5.0   \n",
      "2  13 February 2017   Gold            5.0   \n",
      "3        4 May 2017   Gold            2.0   \n",
      "4     17 March 2017   Gold            4.0   \n",
      "\n",
      "                                              Review  \\\n",
      "0  Excellent phone ...... Battery life is nice an...   \n",
      "1                                               Good   \n",
      "2                                            amazing   \n",
      "3                        One sim slot does not work.   \n",
      "4  A good product for the price... Its made only ...   \n",
      "\n",
      "                                       CleanedReview  Sentiment  \n",
      "0  excel phone batteri life nice good camera clar...          1  \n",
      "1                                               good          1  \n",
      "2                                               amaz          1  \n",
      "3                                  one sim slot work          0  \n",
      "4  good product price made indian sim mention pro...          1  \n"
     ]
    }
   ],
   "source": [
    "print(reviews_df.head())"
   ]
  },
  {
   "cell_type": "code",
   "execution_count": 29,
   "metadata": {
    "colab": {},
    "colab_type": "code",
    "id": "bw5Ge0CZy3Vc"
   },
   "outputs": [
    {
     "name": "stdout",
     "output_type": "stream",
     "text": [
      "(170, 337)\n"
     ]
    }
   ],
   "source": [
    "from sklearn.feature_extraction.text import CountVectorizer\n",
    "cv = CountVectorizer()\n",
    "X_count = cv.fit_transform(corpus)\n",
    "print(X_count.shape)"
   ]
  },
  {
   "cell_type": "code",
   "execution_count": 30,
   "metadata": {
    "colab": {},
    "colab_type": "code",
    "id": "vUQkS_H3zZKs"
   },
   "outputs": [],
   "source": [
    "from sklearn.feature_extraction.text import TfidfTransformer\n",
    "transformer = TfidfTransformer()\n",
    "tfidf = transformer.fit_transform(X_count).toarray()"
   ]
  },
  {
   "cell_type": "code",
   "execution_count": 31,
   "metadata": {
    "colab": {},
    "colab_type": "code",
    "id": "lMQfcyxEzfIT"
   },
   "outputs": [
    {
     "name": "stdout",
     "output_type": "stream",
     "text": [
      "[[0. 0. 0. ... 0. 0. 0.]\n",
      " [0. 0. 0. ... 0. 0. 0.]\n",
      " [0. 0. 0. ... 0. 0. 0.]\n",
      " ...\n",
      " [0. 0. 0. ... 0. 0. 0.]\n",
      " [0. 0. 0. ... 0. 0. 0.]\n",
      " [0. 0. 0. ... 0. 0. 0.]]\n"
     ]
    }
   ],
   "source": [
    "print(tfidf)"
   ]
  },
  {
   "cell_type": "code",
   "execution_count": 32,
   "metadata": {
    "colab": {},
    "colab_type": "code",
    "id": "lsQ0K1OOd5nm"
   },
   "outputs": [
    {
     "name": "stdout",
     "output_type": "stream",
     "text": [
      "(113, 337) (113,)\n"
     ]
    }
   ],
   "source": [
    "from sklearn.model_selection import train_test_split\n",
    "\n",
    "# Split our data\n",
    "X_train, X_test, y_train, y_test = train_test_split(tfidf, reviews_df['Sentiment'], test_size=0.33, random_state=100)\n",
    "\n",
    "print(X_train.shape, y_train.shape)"
   ]
  },
  {
   "cell_type": "code",
   "execution_count": 33,
   "metadata": {
    "colab": {},
    "colab_type": "code",
    "id": "frDg8xCH5qRq"
   },
   "outputs": [
    {
     "data": {
      "text/plain": [
       "RandomForestClassifier(bootstrap=True, class_weight=None, criterion='gini',\n",
       "            max_depth=None, max_features='auto', max_leaf_nodes=None,\n",
       "            min_impurity_decrease=0.0, min_impurity_split=None,\n",
       "            min_samples_leaf=1, min_samples_split=2,\n",
       "            min_weight_fraction_leaf=0.0, n_estimators=10, n_jobs=1,\n",
       "            oob_score=False, random_state=None, verbose=0,\n",
       "            warm_start=False)"
      ]
     },
     "execution_count": 33,
     "metadata": {},
     "output_type": "execute_result"
    }
   ],
   "source": [
    "from sklearn.ensemble import RandomForestClassifier\n",
    "rf = RandomForestClassifier()\n",
    "rf.fit(X_train, y_train)"
   ]
  },
  {
   "cell_type": "code",
   "execution_count": 34,
   "metadata": {
    "colab": {},
    "colab_type": "code",
    "id": "nn54rwUzdy4I"
   },
   "outputs": [
    {
     "name": "stdout",
     "output_type": "stream",
     "text": [
      "[1 1 1 1 0]\n"
     ]
    }
   ],
   "source": [
    "y_pred = rf.predict(X_test)\n",
    "print(y_pred[:5])"
   ]
  },
  {
   "cell_type": "code",
   "execution_count": 35,
   "metadata": {
    "colab": {},
    "colab_type": "code",
    "id": "CjHBgoKCeWPA"
   },
   "outputs": [
    {
     "name": "stdout",
     "output_type": "stream",
     "text": [
      "[[ 2  5]\n",
      " [ 0 50]]\n",
      "             precision    recall  f1-score   support\n",
      "\n",
      "          0       1.00      0.29      0.44         7\n",
      "          1       0.91      1.00      0.95        50\n",
      "\n",
      "avg / total       0.92      0.91      0.89        57\n",
      "\n"
     ]
    }
   ],
   "source": [
    "from sklearn.metrics import classification_report, confusion_matrix  \n",
    "print(confusion_matrix(y_test, y_pred))  \n",
    "print(classification_report(y_test, y_pred))"
   ]
  },
  {
   "cell_type": "markdown",
   "metadata": {},
   "source": [
    "# Test"
   ]
  },
  {
   "cell_type": "code",
   "execution_count": 39,
   "metadata": {},
   "outputs": [
    {
     "name": "stdout",
     "output_type": "stream",
     "text": [
      "Performance is Good..........Average camera\n",
      "perform good averag camera\n",
      "-----   Predicted Sentiment : [[0.2 0.8]]   -----\n",
      "\n",
      "1) restarts frequently 2) slow multi tasking 3) Heating issues while charging  \n",
      "restart frequent slow multi task heat issu charg\n",
      "-----   Predicted Sentiment : [[0.4 0.6]]   -----\n",
      "\n",
      "Awesome camera quality. UI is appealing. Better than other phones in this price range\n",
      "awesom camera qualiti ui appeal better phone price rang\n",
      "-----   Predicted Sentiment : [[0. 1.]]   -----\n",
      "\n"
     ]
    }
   ],
   "source": [
    "#Example\n",
    "new_reviews = [\"Performance is Good..........Average camera\", \n",
    "           \"1) restarts frequently 2) slow multi tasking 3) Heating issues while charging  \",\n",
    "           \"Awesome camera quality. UI is appealing. Better than other phones in this price range\" ]\n",
    "\n",
    "def to_root_sentence(review):\n",
    "    review = re.sub('[^a-zA-z]', \" \", review)\n",
    "    review = review.lower()\n",
    "    review = review.split()\n",
    "    review = [ps.stem(word) for word in review if not word in set(stopwords.words('english'))]\n",
    "    review = \" \".join(review)\n",
    "    return review\n",
    "    \n",
    "def build_feature_vector(review):\n",
    "    X = transformer.transform(cv.transform([review])).toarray()\n",
    "    return X\n",
    "\n",
    "sentiment = {0:\"-ve\", 1:\"+ve\"}\n",
    "for review in new_reviews:\n",
    "    print(review)\n",
    "    review = to_root_sentence(review)\n",
    "    print(review)\n",
    "    X = build_feature_vector(review)\n",
    "    print(\"-----   Predicted Sentiment :\", rf.predict_proba(X), \"  -----\\n\")"
   ]
  },
  {
   "cell_type": "code",
   "execution_count": null,
   "metadata": {},
   "outputs": [],
   "source": []
  }
 ],
 "metadata": {
  "colab": {
   "collapsed_sections": [],
   "name": "7_8_text_analytics_&_sentiment_classification.ipynb",
   "private_outputs": true,
   "provenance": [],
   "version": "0.3.2"
  },
  "kernelspec": {
   "display_name": "Python 3",
   "language": "python",
   "name": "python3"
  },
  "language_info": {
   "codemirror_mode": {
    "name": "ipython",
    "version": 3
   },
   "file_extension": ".py",
   "mimetype": "text/x-python",
   "name": "python",
   "nbconvert_exporter": "python",
   "pygments_lexer": "ipython3",
   "version": "3.6.4"
  }
 },
 "nbformat": 4,
 "nbformat_minor": 1
}
